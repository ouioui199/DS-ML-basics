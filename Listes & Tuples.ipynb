{
 "cells": [
  {
   "cell_type": "code",
   "execution_count": 11,
   "metadata": {},
   "outputs": [],
   "source": [
    "villes = ['Paris', 'Berlin', 'Londres', 'Bruxelles']"
   ]
  },
  {
   "cell_type": "code",
   "execution_count": 12,
   "metadata": {},
   "outputs": [],
   "source": [
    "villes.append('Dublin')"
   ]
  },
  {
   "cell_type": "code",
   "execution_count": 13,
   "metadata": {},
   "outputs": [
    {
     "data": {
      "text/plain": [
       "['Paris', 'Berlin', 'Londres', 'Bruxelles', 'Dublin']"
      ]
     },
     "execution_count": 13,
     "metadata": {},
     "output_type": "execute_result"
    }
   ],
   "source": [
    "villes"
   ]
  },
  {
   "cell_type": "code",
   "execution_count": 14,
   "metadata": {},
   "outputs": [
    {
     "data": {
      "text/plain": [
       "['Paris', 'Berlin', 'Madrid', 'Londres', 'Bruxelles', 'Dublin']"
      ]
     },
     "execution_count": 14,
     "metadata": {},
     "output_type": "execute_result"
    }
   ],
   "source": [
    "villes.insert(2, 'Madrid')\n",
    "villes"
   ]
  },
  {
   "cell_type": "code",
   "execution_count": 15,
   "metadata": {},
   "outputs": [
    {
     "data": {
      "text/plain": [
       "['Paris',\n",
       " 'Berlin',\n",
       " 'Madrid',\n",
       " 'Londres',\n",
       " 'Bruxelles',\n",
       " 'Dublin',\n",
       " 'Amsterdam',\n",
       " 'Rome']"
      ]
     },
     "execution_count": 15,
     "metadata": {},
     "output_type": "execute_result"
    }
   ],
   "source": [
    "villes_2 = ['Amsterdam', 'Rome']\n",
    "villes.extend(villes_2)\n",
    "villes"
   ]
  },
  {
   "cell_type": "code",
   "execution_count": null,
   "metadata": {},
   "outputs": [],
   "source": []
  },
  {
   "cell_type": "code",
   "execution_count": 16,
   "metadata": {},
   "outputs": [
    {
     "data": {
      "text/plain": [
       "8"
      ]
     },
     "execution_count": 16,
     "metadata": {},
     "output_type": "execute_result"
    }
   ],
   "source": [
    "len(villes)"
   ]
  },
  {
   "cell_type": "code",
   "execution_count": 17,
   "metadata": {},
   "outputs": [
    {
     "data": {
      "text/plain": [
       "['Rome',\n",
       " 'Paris',\n",
       " 'Madrid',\n",
       " 'Londres',\n",
       " 'Dublin',\n",
       " 'Bruxelles',\n",
       " 'Berlin',\n",
       " 'Amsterdam']"
      ]
     },
     "execution_count": 17,
     "metadata": {},
     "output_type": "execute_result"
    }
   ],
   "source": [
    "villes.sort(reverse = True)\n",
    "villes"
   ]
  },
  {
   "cell_type": "code",
   "execution_count": 19,
   "metadata": {},
   "outputs": [
    {
     "data": {
      "text/plain": [
       "[1, 13, 24, 34, 48, 53, 57]"
      ]
     },
     "execution_count": 19,
     "metadata": {},
     "output_type": "execute_result"
    }
   ],
   "source": [
    "liste_2 = [13, 24, 53, 34, 1, 48, 57]\n",
    "liste_2.sort()\n",
    "liste_2"
   ]
  },
  {
   "cell_type": "code",
   "execution_count": 21,
   "metadata": {},
   "outputs": [
    {
     "data": {
      "text/plain": [
       "2"
      ]
     },
     "execution_count": 21,
     "metadata": {},
     "output_type": "execute_result"
    }
   ],
   "source": [
    "villes[3] = 'Paris'\n",
    "villes.count('Paris')"
   ]
  },
  {
   "cell_type": "code",
   "execution_count": 22,
   "metadata": {},
   "outputs": [
    {
     "data": {
      "text/plain": [
       "['Rome',\n",
       " 'Paris',\n",
       " 'Madrid',\n",
       " 'Paris',\n",
       " 'Dublin',\n",
       " 'Bruxelles',\n",
       " 'Berlin',\n",
       " 'Amsterdam']"
      ]
     },
     "execution_count": 22,
     "metadata": {},
     "output_type": "execute_result"
    }
   ],
   "source": [
    "villes"
   ]
  },
  {
   "cell_type": "code",
   "execution_count": 23,
   "metadata": {},
   "outputs": [
    {
     "data": {
      "text/plain": [
       "['Rome', 'Madrid', 'Paris', 'Dublin', 'Bruxelles', 'Berlin', 'Amsterdam']"
      ]
     },
     "execution_count": 23,
     "metadata": {},
     "output_type": "execute_result"
    }
   ],
   "source": [
    "villes.pop(1)\n",
    "villes"
   ]
  },
  {
   "cell_type": "code",
   "execution_count": 25,
   "metadata": {},
   "outputs": [
    {
     "name": "stdout",
     "output_type": "stream",
     "text": [
      "Non\n"
     ]
    }
   ],
   "source": [
    "if 'Belfast' in villes:\n",
    "    print('Oui')\n",
    "else:\n",
    "    print('Non')"
   ]
  },
  {
   "cell_type": "code",
   "execution_count": 26,
   "metadata": {},
   "outputs": [
    {
     "name": "stdout",
     "output_type": "stream",
     "text": [
      "Rome\n",
      "Madrid\n",
      "Paris\n",
      "Dublin\n",
      "Bruxelles\n",
      "Berlin\n",
      "Amsterdam\n"
     ]
    }
   ],
   "source": [
    "for i in villes:\n",
    "    print(i)"
   ]
  },
  {
   "cell_type": "code",
   "execution_count": 28,
   "metadata": {},
   "outputs": [
    {
     "name": "stdout",
     "output_type": "stream",
     "text": [
      "0 Rome\n",
      "1 Madrid\n",
      "2 Paris\n",
      "3 Dublin\n",
      "4 Bruxelles\n",
      "5 Berlin\n",
      "6 Amsterdam\n"
     ]
    }
   ],
   "source": [
    "for index, valeur in enumerate(villes):\n",
    "    print(index, valeur)"
   ]
  },
  {
   "cell_type": "code",
   "execution_count": 29,
   "metadata": {},
   "outputs": [
    {
     "name": "stdout",
     "output_type": "stream",
     "text": [
      "Rome 1\n",
      "Madrid 13\n",
      "Paris 24\n",
      "Dublin 34\n",
      "Bruxelles 48\n",
      "Berlin 53\n",
      "Amsterdam 57\n"
     ]
    }
   ],
   "source": [
    "for a, b in zip(villes, liste_2):\n",
    "    print(a,b)"
   ]
  },
  {
   "cell_type": "code",
   "execution_count": null,
   "metadata": {},
   "outputs": [],
   "source": []
  }
 ],
 "metadata": {
  "kernelspec": {
   "display_name": "Python 3",
   "language": "python",
   "name": "python3"
  },
  "language_info": {
   "codemirror_mode": {
    "name": "ipython",
    "version": 3
   },
   "file_extension": ".py",
   "mimetype": "text/x-python",
   "name": "python",
   "nbconvert_exporter": "python",
   "pygments_lexer": "ipython3",
   "version": "3.8.3"
  }
 },
 "nbformat": 4,
 "nbformat_minor": 4
}
